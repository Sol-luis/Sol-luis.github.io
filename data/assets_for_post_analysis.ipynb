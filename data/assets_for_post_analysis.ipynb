{
 "cells": [
  {
   "cell_type": "code",
   "execution_count": 1,
   "metadata": {},
   "outputs": [
    {
     "name": "stderr",
     "output_type": "stream",
     "text": [
      "/home/luisthethormes/sol_geo_env/lib/python3.10/site-packages/geopandas/_compat.py:123: UserWarning: The Shapely GEOS version (3.10.3-CAPI-1.16.1) is incompatible with the GEOS version PyGEOS was compiled with (3.10.4-CAPI-1.16.2). Conversions between both will be slow.\n",
      "  warnings.warn(\n"
     ]
    }
   ],
   "source": [
    "from modules import abrindo_dados, adicionando_dados, caixa_de_ferramentas_vetores, pos_analise_de_dados\n",
    "import os\n",
    "import geopandas as gpd\n",
    "import pandas as pd"
   ]
  },
  {
   "cell_type": "code",
   "execution_count": 2,
   "metadata": {},
   "outputs": [
    {
     "name": "stdout",
     "output_type": "stream",
     "text": [
      "Dimensões do(s) arquivo(s) ['pol_props_ES.geojson']: (73, 15)\n",
      "Dimensões do(s) arquivo(s) ['prodes_deforestation_clip.geojson']: (60, 16)\n",
      "Dimensões do(s) arquivo(s) ['es_uso_solo_vetor_reclassificado_pt.geojson']: (10948, 3)\n"
     ]
    }
   ],
   "source": [
    "#Abrindo arquivos\n",
    "vault_files = \"/home/luisthethormes/01_sol/geo-dev/Sol-luis.github.io/data/\"\n",
    "\n",
    "limite_produtor = abrindo_dados.process_files(vault_files, \"pol_props*\", \"geojson\", zipped = False)\n",
    "limite_produtor = limite_produtor[['car','produtor', 'municipio', 'ind_status', 'des_condic', 'area_hectares', 'geometry']]\n",
    "desmates = abrindo_dados.process_files(vault_files, \"prodes_deforestation_*\", \"geojson\", zipped = False)\n",
    "desmates = desmates[['year', 'image_date', 'geometry']]\n",
    "es_uso_solo_vetor = abrindo_dados.process_files(vault_files, \"es_uso_solo_vetor_reclassificado_pt*\", \"geojson\", zipped = False)\n",
    "\n",
    "### períodos de análise do desmatamento\n",
    "years_cols_pos_2008 = [2008, 2009, 2010, 2011, 2012, 2013, 2014, 2015, 2016,2017, 2018, 2019, 2020, 2021, 2022, 2023]\n",
    "years_cols_pos_2021 = [2021, 2022, 2023]   "
   ]
  },
  {
   "cell_type": "markdown",
   "metadata": {},
   "source": [
    "### Análise de desmates & uso do solo"
   ]
  },
  {
   "cell_type": "code",
   "execution_count": 3,
   "metadata": {},
   "outputs": [
    {
     "name": "stdout",
     "output_type": "stream",
     "text": [
      "crs are the same\n",
      "crs are different\n"
     ]
    }
   ],
   "source": [
    "#Unindo espacialmente\n",
    "limite_produtor_left_desmates = caixa_de_ferramentas_vetores.spatial_intersection(desmates, limite_produtor)\n",
    "limite_produtor_left_uso_solo = caixa_de_ferramentas_vetores.spatial_intersection(es_uso_solo_vetor, limite_produtor)"
   ]
  },
  {
   "cell_type": "code",
   "execution_count": 4,
   "metadata": {},
   "outputs": [],
   "source": [
    "limite_produtor_left_uso_solo = limite_produtor_left_uso_solo.rename(columns={'area_hectares': 'area_propriedade_hectares'}, inplace=False)\n",
    "limite_produtor_left_desmates = limite_produtor_left_desmates.rename(columns={'area_hectares': 'area_propriedade_hectares'}, inplace=False)"
   ]
  },
  {
   "cell_type": "code",
   "execution_count": 5,
   "metadata": {},
   "outputs": [],
   "source": [
    "### Calculando área em hectares ###\n",
    "limite_produtor_left_desmates = adicionando_dados.add_area(limite_produtor_left_desmates)\n",
    "limite_produtor_left_uso_solo = adicionando_dados.add_area(limite_produtor_left_uso_solo)"
   ]
  },
  {
   "cell_type": "code",
   "execution_count": 6,
   "metadata": {},
   "outputs": [],
   "source": [
    "# limite_produtor_left_desmates[['area_hectares_right', 'year']] =  limite_produtor_left_desmates[['area_hectares_right', 'year']].fillna(0)\n",
    "limite_produtor_left_desmates['year'] = limite_produtor_left_desmates['year'].astype(int)"
   ]
  },
  {
   "cell_type": "code",
   "execution_count": 7,
   "metadata": {},
   "outputs": [],
   "source": [
    "#pivoting results by year and car while suming area_hectares\n",
    "pivoted_deforestation = pd.pivot_table(limite_produtor_left_desmates,\n",
    "                                        index=['car','produtor', 'municipio','area_propriedade_hectares'],\n",
    "                                          columns='year',\n",
    "                                            values='area_hectares',\n",
    "                                              aggfunc='sum',\n",
    "                                                dropna = True,\n",
    "                                                  fill_value=0)\n",
    "pivoted_deforestation_r = pivoted_deforestation.reset_index()\n",
    "pivoted_deforestation_r[[2009, 2012, 2015, 2017, 2020, 2022]] = 0.0 ##adicionando as colunas em que não houve desmatamento\n",
    "\n",
    "### Reordenando df\n",
    "pivoted_deforestation_final = pivoted_deforestation_r[['car',\n",
    "                                                        'produtor',\n",
    "                                                          'municipio',\n",
    "                                                            'area_propriedade_hectares',\n",
    "                                                             2008, 2009, 2010, 2011, 2012, 2013, 2014, 2015, 2016,\n",
    "                                                             2017, 2018, 2019, 2020, 2021, 2022, 2023]]\n",
    "### Adding\n",
    "limite_produtor_merge = limite_produtor[['car', 'produtor', 'municipio', 'area_hectares']]\n",
    "pivoted_deforestation_final_merge  = pivoted_deforestation_final[['car', 2008, 2009, 2010, 2011, 2012, 2013, 2014, 2015, 2016,\n",
    "                                                             2017, 2018, 2019, 2020, 2021, 2022, 2023]]\n",
    "\n",
    "limite_desmatamento_full = pd.merge(limite_produtor_merge, pivoted_deforestation_final_merge, how='left', on='car')\n",
    "limite_desmatamento_full = limite_desmatamento_full.fillna(0)\n",
    "\n",
    "pivoted_deforestation_final = limite_desmatamento_full.rename (columns={'area_propriedade_hectares' : 'area da propriedade rural (ha)', \n",
    "                                                                            'car': 'código CAR'                                                                           \n",
    "                                                                           })\n",
    "pivoted_deforestation_final.to_excel(os.path.join(vault_files, 'Análise desmatamento série (2008-2023).xlsx'), index =  False)"
   ]
  },
  {
   "cell_type": "code",
   "execution_count": 8,
   "metadata": {},
   "outputs": [],
   "source": [
    "#retirando duplicatas\n",
    "pivoted_deforestation_final = pivoted_deforestation_final.drop_duplicates(subset='código CAR', keep='last')\n",
    "#retirando cancelados sobrepostos\n",
    "list_overlap = ['ES-3203056-78C1872E88A04F8F88A49DF118230B2C', 'ES-3203056-BBC9D63224A74A8983B475773884AEBD']\n",
    "pivoted_deforestation_final = pivoted_deforestation_final[~pivoted_deforestation_final['código CAR'].isin(list_overlap)]"
   ]
  },
  {
   "cell_type": "code",
   "execution_count": 9,
   "metadata": {},
   "outputs": [
    {
     "name": "stderr",
     "output_type": "stream",
     "text": [
      "/tmp/ipykernel_136197/3011093000.py:1: FutureWarning: The default value of numeric_only in DataFrameGroupBy.sum is deprecated. In a future version, numeric_only will default to False. Either specify numeric_only or select only columns which should be valid for the function.\n",
      "  pivoted_deforestation_final.groupby(by='municipio').sum().reset_index().to_excel(os.path.join(vault_files, 'Análise desmatamento nível Municipal.xlsx'), index=False)\n"
     ]
    }
   ],
   "source": [
    "pivoted_deforestation_final.groupby(by='municipio').sum().reset_index().to_excel(os.path.join(vault_files, 'Análise desmatamento nível Municipal.xlsx'), index=False)"
   ]
  },
  {
   "cell_type": "code",
   "execution_count": 10,
   "metadata": {},
   "outputs": [],
   "source": [
    "pivoted_deforestation_final\n",
    "\n",
    "list_count_deforestation_per_year =  [2008, 2009, 2010, 2011, 2012, 2013, 2014, 2015, 2016,\n",
    "                                                             2017, 2018, 2019, 2020, 2021, 2022, 2023\n",
    "                                                             ]"
   ]
  },
  {
   "cell_type": "code",
   "execution_count": 11,
   "metadata": {},
   "outputs": [],
   "source": [
    "# stats = pos_analise_de_dados.calculate_stats(pivoted_deforestation_final, stats=['mean', 'median', 'std', 'max', 'sum'])\n",
    "# stats = stats.rename(columns={\n",
    "#             'mean': 'Média',\n",
    "#             'median': 'Mediana',\n",
    "#             'std': 'Desvio padrão',\n",
    "#             'max': 'Máximo',\n",
    "#             'sum': 'Soma',\n",
    "#         })\n",
    "\n",
    "# stats.to_excel(os.path.join(vault_files, 'Estatísticas desmatamento série (2008-2023).xlsx'), index=False)"
   ]
  },
  {
   "cell_type": "code",
   "execution_count": 12,
   "metadata": {},
   "outputs": [],
   "source": [
    "limite_produtor_left_uso_solo = pd.pivot_table(limite_produtor_left_uso_solo,\n",
    "                                        index=['car','produtor', 'municipio','area_propriedade_hectares'],\n",
    "                                          columns='classe_uso_solo_mapbiomas',\n",
    "                                            values='area_hectares',\n",
    "                                              aggfunc='sum',\n",
    "                                                  fill_value=0)                                                \n",
    "limite_produtor_left_uso_solo_r = limite_produtor_left_uso_solo.reset_index()\n",
    "limite_produtor_left_uso_solo_r.to_excel(os.path.join(vault_files, 'Análise uso do solo série(2023).xlsx'), index=False)"
   ]
  },
  {
   "cell_type": "code",
   "execution_count": 15,
   "metadata": {},
   "outputs": [
    {
     "name": "stderr",
     "output_type": "stream",
     "text": [
      "/tmp/ipykernel_136197/3561316865.py:5: FutureWarning: The default value of numeric_only in DataFrameGroupBy.sum is deprecated. In a future version, numeric_only will default to False. Either specify numeric_only or select only columns which should be valid for the function.\n",
      "  pivoted_uso_solo_final.groupby(by='municipio').sum().reset_index().to_excel(os.path.join(vault_files, 'Uso do Solo nível municipal.xlsx'), index= False)\n"
     ]
    }
   ],
   "source": [
    "pivoted_uso_solo_final = limite_produtor_left_uso_solo_r.drop_duplicates(subset='car', keep='last')\n",
    "#retirando cancelados sobrepostos\n",
    "list_overlap = ['ES-3203056-78C1872E88A04F8F88A49DF118230B2C', 'ES-3203056-BBC9D63224A74A8983B475773884AEBD']\n",
    "pivoted_uso_solo_final = pivoted_uso_solo_final[~pivoted_uso_solo_final.car.isin(list_overlap)]\n",
    "pivoted_uso_solo_final.groupby(by='municipio').sum().reset_index().to_excel(os.path.join(vault_files, 'Uso do Solo nível municipal.xlsx'), index= False)"
   ]
  },
  {
   "cell_type": "code",
   "execution_count": 17,
   "metadata": {},
   "outputs": [],
   "source": [
    "pivoted_uso_solo_final.groupby(by='municipio')['municipio'].count().to_excel(os.path.join(vault_files, 'Contagem propriedades por Municipio.xlsx'), index=False)"
   ]
  },
  {
   "cell_type": "code",
   "execution_count": 83,
   "metadata": {},
   "outputs": [],
   "source": [
    "# stats_uso_solo = pos_analise_de_dados.calculate_stats(limite_produtor_left_uso_solo_r, stats=['mean', 'median', 'std', 'max', 'sum'])\n",
    "# stats_uso_solo.to_excel(os.path.join(vault_files, 'Estatísticas uso do solo série (2023).xlsx'), index=False)"
   ]
  },
  {
   "cell_type": "markdown",
   "metadata": {},
   "source": [
    "### Análise dos status das propriedades "
   ]
  },
  {
   "cell_type": "code",
   "execution_count": 29,
   "metadata": {},
   "outputs": [],
   "source": [
    "#Criando % de propriedades por cada estatus\n",
    "limite_produtor = limite_produtor.drop_duplicates(subset = 'car', keep= 'first')\n",
    "df = limite_produtor.des_condic.value_counts()/int(len(limite_produtor)) * 100\n",
    "df = (pd.DataFrame(df)).reset_index()\n",
    "df = df.rename({'index' : 'Status', \n",
    "                'des_condic': 'Porcentagem'\n",
    "                }, axis =1)"
   ]
  },
  {
   "cell_type": "code",
   "execution_count": 30,
   "metadata": {},
   "outputs": [
    {
     "data": {
      "text/html": [
       "<div>\n",
       "<style scoped>\n",
       "    .dataframe tbody tr th:only-of-type {\n",
       "        vertical-align: middle;\n",
       "    }\n",
       "\n",
       "    .dataframe tbody tr th {\n",
       "        vertical-align: top;\n",
       "    }\n",
       "\n",
       "    .dataframe thead th {\n",
       "        text-align: right;\n",
       "    }\n",
       "</style>\n",
       "<table border=\"1\" class=\"dataframe\">\n",
       "  <thead>\n",
       "    <tr style=\"text-align: right;\">\n",
       "      <th></th>\n",
       "      <th>municipio</th>\n",
       "      <th>des_condic</th>\n",
       "      <th>contagem</th>\n",
       "      <th>% do município</th>\n",
       "      <th>% do total amostrado</th>\n",
       "    </tr>\n",
       "  </thead>\n",
       "  <tbody>\n",
       "    <tr>\n",
       "      <th>0</th>\n",
       "      <td>Afonso Claudio</td>\n",
       "      <td>Aguardando analise</td>\n",
       "      <td>8</td>\n",
       "      <td>100.000000</td>\n",
       "      <td>11.111111</td>\n",
       "    </tr>\n",
       "    <tr>\n",
       "      <th>1</th>\n",
       "      <td>Aracruz</td>\n",
       "      <td>Aguardando analise</td>\n",
       "      <td>1</td>\n",
       "      <td>100.000000</td>\n",
       "      <td>1.388889</td>\n",
       "    </tr>\n",
       "    <tr>\n",
       "      <th>2</th>\n",
       "      <td>Boa Esperanca</td>\n",
       "      <td>Aguardando analise</td>\n",
       "      <td>1</td>\n",
       "      <td>100.000000</td>\n",
       "      <td>1.388889</td>\n",
       "    </tr>\n",
       "    <tr>\n",
       "      <th>3</th>\n",
       "      <td>Ecoporanga</td>\n",
       "      <td>Aguardando analise</td>\n",
       "      <td>1</td>\n",
       "      <td>100.000000</td>\n",
       "      <td>1.388889</td>\n",
       "    </tr>\n",
       "    <tr>\n",
       "      <th>4</th>\n",
       "      <td>Fundao</td>\n",
       "      <td>Aguardando analise</td>\n",
       "      <td>3</td>\n",
       "      <td>100.000000</td>\n",
       "      <td>4.166667</td>\n",
       "    </tr>\n",
       "    <tr>\n",
       "      <th>5</th>\n",
       "      <td>Governador Lindenberg</td>\n",
       "      <td>Aguardando analise</td>\n",
       "      <td>1</td>\n",
       "      <td>100.000000</td>\n",
       "      <td>1.388889</td>\n",
       "    </tr>\n",
       "    <tr>\n",
       "      <th>6</th>\n",
       "      <td>Itaguacu</td>\n",
       "      <td>Aguardando analise</td>\n",
       "      <td>7</td>\n",
       "      <td>100.000000</td>\n",
       "      <td>9.722222</td>\n",
       "    </tr>\n",
       "    <tr>\n",
       "      <th>7</th>\n",
       "      <td>Itarana</td>\n",
       "      <td>Aguardando analise</td>\n",
       "      <td>1</td>\n",
       "      <td>100.000000</td>\n",
       "      <td>1.388889</td>\n",
       "    </tr>\n",
       "    <tr>\n",
       "      <th>8</th>\n",
       "      <td>Jaguare</td>\n",
       "      <td>Aguardando analise</td>\n",
       "      <td>14</td>\n",
       "      <td>77.777778</td>\n",
       "      <td>19.444444</td>\n",
       "    </tr>\n",
       "    <tr>\n",
       "      <th>9</th>\n",
       "      <td>Jaguare</td>\n",
       "      <td>Cancelado por decisao administrativa</td>\n",
       "      <td>4</td>\n",
       "      <td>22.222222</td>\n",
       "      <td>5.555556</td>\n",
       "    </tr>\n",
       "    <tr>\n",
       "      <th>10</th>\n",
       "      <td>Linhares</td>\n",
       "      <td>Aguardando analise</td>\n",
       "      <td>2</td>\n",
       "      <td>100.000000</td>\n",
       "      <td>2.777778</td>\n",
       "    </tr>\n",
       "    <tr>\n",
       "      <th>11</th>\n",
       "      <td>Montanha</td>\n",
       "      <td>Aguardando analise</td>\n",
       "      <td>1</td>\n",
       "      <td>100.000000</td>\n",
       "      <td>1.388889</td>\n",
       "    </tr>\n",
       "    <tr>\n",
       "      <th>12</th>\n",
       "      <td>Nova Venecia</td>\n",
       "      <td>Aguardando analise</td>\n",
       "      <td>4</td>\n",
       "      <td>100.000000</td>\n",
       "      <td>5.555556</td>\n",
       "    </tr>\n",
       "    <tr>\n",
       "      <th>13</th>\n",
       "      <td>Pinheiros</td>\n",
       "      <td>Aguardando analise</td>\n",
       "      <td>1</td>\n",
       "      <td>100.000000</td>\n",
       "      <td>1.388889</td>\n",
       "    </tr>\n",
       "    <tr>\n",
       "      <th>14</th>\n",
       "      <td>Rio Bananal</td>\n",
       "      <td>Aguardando analise</td>\n",
       "      <td>2</td>\n",
       "      <td>100.000000</td>\n",
       "      <td>2.777778</td>\n",
       "    </tr>\n",
       "    <tr>\n",
       "      <th>15</th>\n",
       "      <td>Santa Teresa</td>\n",
       "      <td>Aguardando analise</td>\n",
       "      <td>9</td>\n",
       "      <td>100.000000</td>\n",
       "      <td>12.500000</td>\n",
       "    </tr>\n",
       "    <tr>\n",
       "      <th>16</th>\n",
       "      <td>Sao Domingos do Norte</td>\n",
       "      <td>Aguardando analise</td>\n",
       "      <td>1</td>\n",
       "      <td>100.000000</td>\n",
       "      <td>1.388889</td>\n",
       "    </tr>\n",
       "    <tr>\n",
       "      <th>17</th>\n",
       "      <td>Sao Gabriel da Palha</td>\n",
       "      <td>Aguardando analise</td>\n",
       "      <td>2</td>\n",
       "      <td>100.000000</td>\n",
       "      <td>2.777778</td>\n",
       "    </tr>\n",
       "    <tr>\n",
       "      <th>18</th>\n",
       "      <td>Sao Mateus</td>\n",
       "      <td>Aguardando analise</td>\n",
       "      <td>4</td>\n",
       "      <td>80.000000</td>\n",
       "      <td>5.555556</td>\n",
       "    </tr>\n",
       "    <tr>\n",
       "      <th>19</th>\n",
       "      <td>Sao Mateus</td>\n",
       "      <td>Cancelado por decisao administrativa</td>\n",
       "      <td>1</td>\n",
       "      <td>20.000000</td>\n",
       "      <td>1.388889</td>\n",
       "    </tr>\n",
       "    <tr>\n",
       "      <th>20</th>\n",
       "      <td>Sao Roque do Canaa</td>\n",
       "      <td>Aguardando analise</td>\n",
       "      <td>2</td>\n",
       "      <td>100.000000</td>\n",
       "      <td>2.777778</td>\n",
       "    </tr>\n",
       "    <tr>\n",
       "      <th>21</th>\n",
       "      <td>Vila Valerio</td>\n",
       "      <td>Aguardando analise</td>\n",
       "      <td>2</td>\n",
       "      <td>100.000000</td>\n",
       "      <td>2.777778</td>\n",
       "    </tr>\n",
       "  </tbody>\n",
       "</table>\n",
       "</div>"
      ],
      "text/plain": [
       "                municipio                            des_condic  contagem  \\\n",
       "0          Afonso Claudio                    Aguardando analise         8   \n",
       "1                 Aracruz                    Aguardando analise         1   \n",
       "2           Boa Esperanca                    Aguardando analise         1   \n",
       "3              Ecoporanga                    Aguardando analise         1   \n",
       "4                  Fundao                    Aguardando analise         3   \n",
       "5   Governador Lindenberg                    Aguardando analise         1   \n",
       "6                Itaguacu                    Aguardando analise         7   \n",
       "7                 Itarana                    Aguardando analise         1   \n",
       "8                 Jaguare                    Aguardando analise        14   \n",
       "9                 Jaguare  Cancelado por decisao administrativa         4   \n",
       "10               Linhares                    Aguardando analise         2   \n",
       "11               Montanha                    Aguardando analise         1   \n",
       "12           Nova Venecia                    Aguardando analise         4   \n",
       "13              Pinheiros                    Aguardando analise         1   \n",
       "14            Rio Bananal                    Aguardando analise         2   \n",
       "15           Santa Teresa                    Aguardando analise         9   \n",
       "16  Sao Domingos do Norte                    Aguardando analise         1   \n",
       "17   Sao Gabriel da Palha                    Aguardando analise         2   \n",
       "18             Sao Mateus                    Aguardando analise         4   \n",
       "19             Sao Mateus  Cancelado por decisao administrativa         1   \n",
       "20     Sao Roque do Canaa                    Aguardando analise         2   \n",
       "21           Vila Valerio                    Aguardando analise         2   \n",
       "\n",
       "    % do município  % do total amostrado  \n",
       "0       100.000000             11.111111  \n",
       "1       100.000000              1.388889  \n",
       "2       100.000000              1.388889  \n",
       "3       100.000000              1.388889  \n",
       "4       100.000000              4.166667  \n",
       "5       100.000000              1.388889  \n",
       "6       100.000000              9.722222  \n",
       "7       100.000000              1.388889  \n",
       "8        77.777778             19.444444  \n",
       "9        22.222222              5.555556  \n",
       "10      100.000000              2.777778  \n",
       "11      100.000000              1.388889  \n",
       "12      100.000000              5.555556  \n",
       "13      100.000000              1.388889  \n",
       "14      100.000000              2.777778  \n",
       "15      100.000000             12.500000  \n",
       "16      100.000000              1.388889  \n",
       "17      100.000000              2.777778  \n",
       "18       80.000000              5.555556  \n",
       "19       20.000000              1.388889  \n",
       "20      100.000000              2.777778  \n",
       "21      100.000000              2.777778  "
      ]
     },
     "execution_count": 30,
     "metadata": {},
     "output_type": "execute_result"
    }
   ],
   "source": [
    "limite_produtor_por_municipio = limite_produtor.groupby(['municipio', 'des_condic']).size().reset_index(name = \"contagem\")\n",
    "### Calculando % por municipio\n",
    "soma_total = limite_produtor_por_municipio.contagem.sum()\n",
    "\n",
    "# Calcula a soma da contagem por município\n",
    "soma_por_municipio = limite_produtor_por_municipio.groupby('municipio')['contagem'].transform('sum')\n",
    "\n",
    "# Adiciona a coluna de porcentagem em relação ao município\n",
    "limite_produtor_por_municipio['% do município'] = (limite_produtor_por_municipio['contagem'] / soma_por_municipio) * 100\n",
    "\n",
    "# Adiciona a coluna de porcentagem em relação ao total da amostra\n",
    "limite_produtor_por_municipio['% do total amostrado'] = (limite_produtor_por_municipio['contagem'] / soma_total) * 100\n",
    "\n",
    "limite_produtor_por_municipio\n"
   ]
  },
  {
   "cell_type": "code",
   "execution_count": 31,
   "metadata": {},
   "outputs": [],
   "source": [
    "### Exporting in one file df and limite_produtor_por_municipio using xlsx writer\n",
    "\n",
    "with pd.ExcelWriter(os.path.join(vault_files, 'Análises de Status das propriedades.xlsx'), engine='xlsxwriter') as writer:\n",
    "    df.to_excel(writer, sheet_name=\"Análise geral\", index=False)\n",
    "    limite_produtor_por_municipio.to_excel(writer, sheet_name=\"Análise por município\", index=False)"
   ]
  }
 ],
 "metadata": {
  "kernelspec": {
   "display_name": "sol_geo_env",
   "language": "python",
   "name": "python3"
  },
  "language_info": {
   "codemirror_mode": {
    "name": "ipython",
    "version": 3
   },
   "file_extension": ".py",
   "mimetype": "text/x-python",
   "name": "python",
   "nbconvert_exporter": "python",
   "pygments_lexer": "ipython3",
   "version": "3.10.12"
  }
 },
 "nbformat": 4,
 "nbformat_minor": 2
}
