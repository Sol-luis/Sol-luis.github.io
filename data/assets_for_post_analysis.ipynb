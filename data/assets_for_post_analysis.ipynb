{
 "cells": [
  {
   "cell_type": "code",
   "execution_count": 39,
   "metadata": {},
   "outputs": [],
   "source": [
    "from modules import abrindo_dados, adicionando_dados, caixa_de_ferramentas_vetores, pos_analise_de_dados\n",
    "import os\n",
    "import geopandas as gpd\n",
    "import pandas as pd"
   ]
  },
  {
   "cell_type": "code",
   "execution_count": 40,
   "metadata": {},
   "outputs": [
    {
     "name": "stdout",
     "output_type": "stream",
     "text": [
      "Dimensões do(s) arquivo(s) ['pol_props_ES.geojson']: (74, 15)\n",
      "Dimensões do(s) arquivo(s) ['prodes_deforestation_clip.geojson']: (60, 16)\n",
      "Dimensões do(s) arquivo(s) ['es_uso_solo_vetor_reclassificado_pt.geojson']: (1761, 3)\n"
     ]
    }
   ],
   "source": [
    "#Abrindo arquivos\n",
    "vault_files = \"/home/luisthethormes/01_sol/geo-dev/Sol-luis.github.io/data/\"\n",
    "\n",
    "limite_produtor = abrindo_dados.process_files(vault_files, \"pol_props*\", \"geojson\", zipped = False)\n",
    "limite_produtor = limite_produtor[['car','produtor', 'municipio', 'des_condic', 'area_hectares', 'geometry']]\n",
    "desmates = abrindo_dados.process_files(vault_files, \"prodes_deforestation_*\", \"geojson\", zipped = False)\n",
    "desmates = desmates[['year', 'image_date', 'geometry']]\n",
    "es_uso_solo_vetor = abrindo_dados.process_files(vault_files, \"es_uso_solo_vetor_reclassificado_pt*\", \"geojson\", zipped = False)"
   ]
  },
  {
   "cell_type": "code",
   "execution_count": 41,
   "metadata": {},
   "outputs": [],
   "source": [
    "### Calculando área em hectares ###\n",
    "desmates = adicionando_dados.add_area(desmates)\n",
    "es_uso_solo_vetor = adicionando_dados.add_area(es_uso_solo_vetor)"
   ]
  },
  {
   "cell_type": "code",
   "execution_count": 42,
   "metadata": {},
   "outputs": [
    {
     "name": "stdout",
     "output_type": "stream",
     "text": [
      "crs are the same\n",
      "crs are the same\n"
     ]
    }
   ],
   "source": [
    "#Unindo espacialmente\n",
    "limite_produtor_left_desmates = caixa_de_ferramentas_vetores.spatial_joining(limite_produtor, desmates, how='left', predicate='intersects')\n",
    "limite_produtor_left_uso_solo = caixa_de_ferramentas_vetores.spatial_joining(limite_produtor, es_uso_solo_vetor, how='left', predicate='intersects')"
   ]
  },
  {
   "cell_type": "code",
   "execution_count": 43,
   "metadata": {},
   "outputs": [],
   "source": [
    "limite_produtor_left_desmates[['area_hectares_right', 'year']] =  limite_produtor_left_desmates[['area_hectares_right', 'year']].fillna(0)\n",
    "limite_produtor_left_desmates['year'] = limite_produtor_left_desmates['year'].astype(int)"
   ]
  },
  {
   "cell_type": "code",
   "execution_count": 44,
   "metadata": {},
   "outputs": [],
   "source": [
    "#pivoting results by year and car while suming area_hectares\n",
    "pivoted_deforestation = pd.pivot_table(limite_produtor_left_desmates,\n",
    "                                        index=['car','produtor', 'municipio','area_hectares_left'],\n",
    "                                          columns='year',\n",
    "                                            values='area_hectares_right',\n",
    "                                              aggfunc='sum',\n",
    "                                                dropna = True,\n",
    "                                                  fill_value=0)\n",
    "pivoted_deforestation_r = pivoted_deforestation.reset_index()\n",
    "pivoted_deforestation_r[[2009, 2012, 2015, 2017, 2020, 2022]] = 0.0\n",
    "\n",
    "### Reordenando df\n",
    "pivoted_deforestation_final = pivoted_deforestation_r[['car',\n",
    "                                                        'produtor',\n",
    "                                                          'municipio',\n",
    "                                                            'area_hectares_left',\n",
    "                                                             2008, 2009, 2010, 2011, 2012, 2013, 2014, 2015, 2016,\n",
    "                                                             2017, 2018, 2019, 2020, 2021, 2022, 2023]]\n",
    "\n",
    "pivoted_deforestation_final = pivoted_deforestation_final.rename (columns={'area_hectares_left' : 'area da propriedade rural (ha)', \n",
    "                                                                            'car': 'código CAR'                                                                           \n",
    "                                                                           })\n",
    "pivoted_deforestation_final.to_excel(os.path.join(vault_files, 'Análise desmatamento série (2008-2023).xlsx'))"
   ]
  },
  {
   "cell_type": "code",
   "execution_count": 45,
   "metadata": {},
   "outputs": [],
   "source": [
    "stats = pos_analise_de_dados.calculate_stats(pivoted_deforestation_final, stats=['mean', 'median', 'std', 'max'])\n",
    "stats.to_excel(os.path.join(vault_files, 'Estatísticas desmatamento série (2008-2023).xlsx'))"
   ]
  },
  {
   "cell_type": "code",
   "execution_count": 46,
   "metadata": {},
   "outputs": [],
   "source": [
    "limite_produtor_left_uso_solo = pd.pivot_table(limite_produtor_left_uso_solo,\n",
    "                                        index=['car','produtor', 'municipio','area_hectares_left'],\n",
    "                                          columns='classe_uso_solo_mapbiomas',\n",
    "                                            values='area_hectares_right',\n",
    "                                              aggfunc='sum',\n",
    "                                                  fill_value=0)                                                \n",
    "limite_produtor_left_uso_solo_r = limite_produtor_left_uso_solo.reset_index()\n",
    "limite_produtor_left_uso_solo_r.to_excel(os.path.join(vault_files, 'Análise uso do solo série(2023).xlsx'))"
   ]
  },
  {
   "cell_type": "code",
   "execution_count": 47,
   "metadata": {},
   "outputs": [],
   "source": [
    "stats = pos_analise_de_dados.calculate_stats(limite_produtor_left_uso_solo_r, stats=['mean', 'median', 'std', 'max'])\n",
    "stats.to_excel(os.path.join(vault_files, 'Estatísticas uso do solo série (2023).xlsx'))"
   ]
  }
 ],
 "metadata": {
  "kernelspec": {
   "display_name": "sol_geo_env",
   "language": "python",
   "name": "python3"
  },
  "language_info": {
   "codemirror_mode": {
    "name": "ipython",
    "version": 3
   },
   "file_extension": ".py",
   "mimetype": "text/x-python",
   "name": "python",
   "nbconvert_exporter": "python",
   "pygments_lexer": "ipython3",
   "version": "3.10.12"
  }
 },
 "nbformat": 4,
 "nbformat_minor": 2
}
